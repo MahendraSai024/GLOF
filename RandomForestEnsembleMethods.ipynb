{
 "cells": [
  {
   "cell_type": "code",
   "execution_count": 1,
   "id": "dc2c75e4-688b-4626-b50b-91ab9bc67610",
   "metadata": {},
   "outputs": [],
   "source": [
    "import numpy as np\n",
    "import pandas as pd\n",
    "import seaborn as sns\n",
    "import matplotlib.pyplot as plt\n",
    "from itertools import cycle\n",
    "\n",
    "\n",
    "from sklearn.model_selection import train_test_split\n",
    "from sklearn.ensemble import RandomForestClassifier\n",
    "from sklearn import preprocessing\n",
    "from sklearn.model_selection import GridSearchCV\n",
    "\n",
    "#class\n",
    "from sklearn.neighbors import KNeighborsClassifier\n",
    "from sklearn.tree import DecisionTreeClassifier\n",
    "from dmba import plotDecisionTree\n",
    "\n",
    "from sklearn.neural_network import MLPClassifier\n",
    "from sklearn.datasets import make_classification\n",
    "from sklearn.model_selection import train_test_split\n",
    "\n",
    "from sklearn.preprocessing import label_binarize\n",
    "from sklearn.multiclass import OneVsRestClassifier\n",
    "from sklearn.metrics import PrecisionRecallDisplay\n",
    "\n",
    "#score/results\n",
    "from sklearn.metrics import precision_score, accuracy_score, roc_auc_score, confusion_matrix,f1_score, roc_curve, auc, recall_score\n",
    "\n",
    "from sklearn.datasets import make_blobs\n",
    "from sklearn.svm import LinearSVC\n",
    "\n",
    "from sklearn.metrics import ConfusionMatrixDisplay\n",
    "from sklearn.datasets import make_classification\n",
    "\n",
    "# from sklearn.metrics import plot_confusion_matrix -> Plot_Confusion_Matrix is deprecated\n",
    "from sklearn.metrics import ConfusionMatrixDisplay\n",
    "\n",
    "import tkinter\n",
    "import matplotlib"
   ]
  },
  {
   "cell_type": "code",
   "execution_count": 2,
   "id": "2f3685b8-b4aa-4fa4-aebf-1335fc7c9ce5",
   "metadata": {},
   "outputs": [],
   "source": [
    "def evaluateBinaryClassification(predictions, actuals):\n",
    "    print(\"Predictions\", predictions)\n",
    "    print(\"Actual\", actuals)\n",
    "    contigency = pd.crosstab(actuals,predictions)\n",
    "    print(\"Contigency\", contigency)\n",
    "    TP = contigency[1][1]\n",
    "    TN = contigency[0][0]\n",
    "    FP = contigency[1][0]\n",
    "    FN = contigency[0][1]\n",
    "    n = contigency.sum().sum()\n",
    "\n",
    "    Acuracy = (TP + TN)/n\n",
    "    Recall = TP/(TP+FN)\n",
    "    Precision = TP/(TP+FP)\n",
    "    FScore = 2*Recall*Precision/(Recall+Precision)\n",
    "    \n",
    "    return Acuracy, Recall, Precision, FScore"
   ]
  },
  {
   "cell_type": "markdown",
   "id": "ef31ca02-f246-49db-bf63-8b751a1468a5",
   "metadata": {},
   "source": [
    "#Read data"
   ]
  },
  {
   "cell_type": "code",
   "execution_count": 3,
   "id": "5bf1c52b-1a5e-4d3e-82ed-257c46ebe0bf",
   "metadata": {},
   "outputs": [
    {
     "data": {
      "text/html": [
       "<div>\n",
       "<style scoped>\n",
       "    .dataframe tbody tr th:only-of-type {\n",
       "        vertical-align: middle;\n",
       "    }\n",
       "\n",
       "    .dataframe tbody tr th {\n",
       "        vertical-align: top;\n",
       "    }\n",
       "\n",
       "    .dataframe thead th {\n",
       "        text-align: right;\n",
       "    }\n",
       "</style>\n",
       "<table border=\"1\" class=\"dataframe\">\n",
       "  <thead>\n",
       "    <tr style=\"text-align: right;\">\n",
       "      <th></th>\n",
       "      <th>GF_ID</th>\n",
       "      <th>Year_approx</th>\n",
       "      <th>Year_exact</th>\n",
       "      <th>Month</th>\n",
       "      <th>Day</th>\n",
       "      <th>Lake_name</th>\n",
       "      <th>Glacier_name</th>\n",
       "      <th>GL_ID</th>\n",
       "      <th>LakeDB_ID</th>\n",
       "      <th>G_ID</th>\n",
       "      <th>...</th>\n",
       "      <th>Commerical_damaged</th>\n",
       "      <th>Infra</th>\n",
       "      <th>Agricultural</th>\n",
       "      <th>Hydropower</th>\n",
       "      <th>Econ_damage</th>\n",
       "      <th>Sat_evidence</th>\n",
       "      <th>Ref_scientific</th>\n",
       "      <th>Ref_scientific_full</th>\n",
       "      <th>Ref_other</th>\n",
       "      <th>Remarks</th>\n",
       "    </tr>\n",
       "  </thead>\n",
       "  <tbody>\n",
       "    <tr>\n",
       "      <th>0</th>\n",
       "      <td>1</td>\n",
       "      <td>1533.0</td>\n",
       "      <td>1533.0</td>\n",
       "      <td>NaN</td>\n",
       "      <td>NaN</td>\n",
       "      <td>NaN</td>\n",
       "      <td>Chong Kumden</td>\n",
       "      <td>Ephemeral</td>\n",
       "      <td>NaN</td>\n",
       "      <td>G077657E35156N</td>\n",
       "      <td>...</td>\n",
       "      <td>NaN</td>\n",
       "      <td>NaN</td>\n",
       "      <td>NaN</td>\n",
       "      <td>NaN</td>\n",
       "      <td>NaN</td>\n",
       "      <td>NaN</td>\n",
       "      <td>(Hedin, 1917; Hewitt, 2014; Bazai et al., 2021)</td>\n",
       "      <td>Hedin, S., 1917. Southern Tibet. Stockholm; 34...</td>\n",
       "      <td>NaN</td>\n",
       "      <td>NaN</td>\n",
       "    </tr>\n",
       "    <tr>\n",
       "      <th>1</th>\n",
       "      <td>2</td>\n",
       "      <td>1560.0</td>\n",
       "      <td>1560.0</td>\n",
       "      <td>NaN</td>\n",
       "      <td>NaN</td>\n",
       "      <td>NaN</td>\n",
       "      <td>Machhapuchhre</td>\n",
       "      <td>No lake</td>\n",
       "      <td>NaN</td>\n",
       "      <td>G084009E28557N</td>\n",
       "      <td>...</td>\n",
       "      <td>NaN</td>\n",
       "      <td>NaN</td>\n",
       "      <td>NaN</td>\n",
       "      <td>NaN</td>\n",
       "      <td>NaN</td>\n",
       "      <td>NaN</td>\n",
       "      <td>(Ives, Shrestha and Mool, 2010; ICIMOD, 2011)</td>\n",
       "      <td>Ives, J.D., Shrestha, R.B., Mool, P.K., 2010. ...</td>\n",
       "      <td>NaN</td>\n",
       "      <td>NaN</td>\n",
       "    </tr>\n",
       "    <tr>\n",
       "      <th>2</th>\n",
       "      <td>3</td>\n",
       "      <td>1661.0</td>\n",
       "      <td>1661.0</td>\n",
       "      <td>NaN</td>\n",
       "      <td>NaN</td>\n",
       "      <td>NaN</td>\n",
       "      <td>Biafo</td>\n",
       "      <td>GL075907E35687N</td>\n",
       "      <td>2, 4</td>\n",
       "      <td>G075593E36006N</td>\n",
       "      <td>...</td>\n",
       "      <td>NaN</td>\n",
       "      <td>Entire village destroyed</td>\n",
       "      <td>NaN</td>\n",
       "      <td>NaN</td>\n",
       "      <td>NaN</td>\n",
       "      <td>NaN</td>\n",
       "      <td>(Godwin-Austen, 1864)</td>\n",
       "      <td>Godwin-Austen, H.H., 1864. On the Glaciers of ...</td>\n",
       "      <td>NaN</td>\n",
       "      <td>NaN</td>\n",
       "    </tr>\n",
       "    <tr>\n",
       "      <th>3</th>\n",
       "      <td>4</td>\n",
       "      <td>1780.0</td>\n",
       "      <td>1780.0</td>\n",
       "      <td>NaN</td>\n",
       "      <td>NaN</td>\n",
       "      <td>NaN</td>\n",
       "      <td>Chong Kumden</td>\n",
       "      <td>Ephemeral</td>\n",
       "      <td>NaN</td>\n",
       "      <td>G077657E35156N</td>\n",
       "      <td>...</td>\n",
       "      <td>NaN</td>\n",
       "      <td>NaN</td>\n",
       "      <td>NaN</td>\n",
       "      <td>NaN</td>\n",
       "      <td>NaN</td>\n",
       "      <td>NaN</td>\n",
       "      <td>(Strachey, 1853; Bazai et al., 2021)</td>\n",
       "      <td>Strachey, W., 1853. Physical Geography of West...</td>\n",
       "      <td>NaN</td>\n",
       "      <td>Strachey (1853) reported that the oldest flood...</td>\n",
       "    </tr>\n",
       "    <tr>\n",
       "      <th>4</th>\n",
       "      <td>6</td>\n",
       "      <td>1833.0</td>\n",
       "      <td>1833.0</td>\n",
       "      <td>NaN</td>\n",
       "      <td>NaN</td>\n",
       "      <td>NaN</td>\n",
       "      <td>Chong Kumden</td>\n",
       "      <td>Ephemeral</td>\n",
       "      <td>NaN</td>\n",
       "      <td>G077657E35156N</td>\n",
       "      <td>...</td>\n",
       "      <td>NaN</td>\n",
       "      <td>NaN</td>\n",
       "      <td>NaN</td>\n",
       "      <td>NaN</td>\n",
       "      <td>NaN</td>\n",
       "      <td>NaN</td>\n",
       "      <td>(Hewitt and Liu, 2010; Hewitt, 2014; Bazai et ...</td>\n",
       "      <td>Hewitt, K., Liu, J., 2010. Ice-Dammed Lakes an...</td>\n",
       "      <td>NaN</td>\n",
       "      <td>NaN</td>\n",
       "    </tr>\n",
       "  </tbody>\n",
       "</table>\n",
       "<p>5 rows × 59 columns</p>\n",
       "</div>"
      ],
      "text/plain": [
       "   GF_ID  Year_approx  Year_exact  Month  Day Lake_name   Glacier_name  \\\n",
       "0      1       1533.0      1533.0    NaN  NaN       NaN   Chong Kumden   \n",
       "1      2       1560.0      1560.0    NaN  NaN       NaN  Machhapuchhre   \n",
       "2      3       1661.0      1661.0    NaN  NaN       NaN          Biafo   \n",
       "3      4       1780.0      1780.0    NaN  NaN       NaN   Chong Kumden   \n",
       "4      6       1833.0      1833.0    NaN  NaN       NaN   Chong Kumden   \n",
       "\n",
       "             GL_ID LakeDB_ID            G_ID  ...  Commerical_damaged  \\\n",
       "0        Ephemeral       NaN  G077657E35156N  ...                 NaN   \n",
       "1          No lake       NaN  G084009E28557N  ...                 NaN   \n",
       "2  GL075907E35687N      2, 4  G075593E36006N  ...                 NaN   \n",
       "3        Ephemeral       NaN  G077657E35156N  ...                 NaN   \n",
       "4        Ephemeral       NaN  G077657E35156N  ...                 NaN   \n",
       "\n",
       "                      Infra  Agricultural  Hydropower  Econ_damage  \\\n",
       "0                       NaN           NaN         NaN          NaN   \n",
       "1                       NaN           NaN         NaN          NaN   \n",
       "2  Entire village destroyed           NaN         NaN          NaN   \n",
       "3                       NaN           NaN         NaN          NaN   \n",
       "4                       NaN           NaN         NaN          NaN   \n",
       "\n",
       "   Sat_evidence                                     Ref_scientific  \\\n",
       "0           NaN    (Hedin, 1917; Hewitt, 2014; Bazai et al., 2021)   \n",
       "1           NaN      (Ives, Shrestha and Mool, 2010; ICIMOD, 2011)   \n",
       "2           NaN                              (Godwin-Austen, 1864)   \n",
       "3           NaN               (Strachey, 1853; Bazai et al., 2021)   \n",
       "4           NaN  (Hewitt and Liu, 2010; Hewitt, 2014; Bazai et ...   \n",
       "\n",
       "                                 Ref_scientific_full Ref_other  \\\n",
       "0  Hedin, S., 1917. Southern Tibet. Stockholm; 34...       NaN   \n",
       "1  Ives, J.D., Shrestha, R.B., Mool, P.K., 2010. ...       NaN   \n",
       "2  Godwin-Austen, H.H., 1864. On the Glaciers of ...       NaN   \n",
       "3  Strachey, W., 1853. Physical Geography of West...       NaN   \n",
       "4  Hewitt, K., Liu, J., 2010. Ice-Dammed Lakes an...       NaN   \n",
       "\n",
       "                                             Remarks  \n",
       "0                                                NaN  \n",
       "1                                                NaN  \n",
       "2                                                NaN  \n",
       "3  Strachey (1853) reported that the oldest flood...  \n",
       "4                                                NaN  \n",
       "\n",
       "[5 rows x 59 columns]"
      ]
     },
     "execution_count": 3,
     "metadata": {},
     "output_type": "execute_result"
    }
   ],
   "source": [
    "# Read data with a different encoding (Due to the presence of special characters)\n",
    "df_agg = pd.read_csv('HMAGLOFDB.csv', encoding='latin1')\n",
    "df_agg.head()"
   ]
  },
  {
   "cell_type": "code",
   "execution_count": 4,
   "id": "4126b604",
   "metadata": {},
   "outputs": [
    {
     "name": "stdout",
     "output_type": "stream",
     "text": [
      "Index(['GF_ID', 'Year_approx', 'Year_exact', 'Month', 'Day', 'Lake_name',\n",
      "       'Glacier_name', 'GL_ID', 'LakeDB_ID', 'G_ID', 'Lat_lake', 'Lon_lake',\n",
      "       'Elev_lake', 'Lat_impact', 'Lon_impact', 'Elev_impact', 'Impact_type',\n",
      "       'Lake_type', 'Transboundary', 'Repeat', 'Region_RGI', 'Region_HiMAP',\n",
      "       'Country', 'Province', 'River_Basin', 'Driver_lake', 'Driver_GLOF',\n",
      "       'Mechanism', 'Area', 'Volume', 'Discharge_water', 'Discharge_solid',\n",
      "       'Impact', 'Lives_total', 'Lives_male', 'Lives_female',\n",
      "       'Lives_disabilities', 'Injured_total', 'Injured_male', 'Injured_female',\n",
      "       'Injured_disabilities', 'Displaced_total', 'Displaced_male',\n",
      "       'Displaced_female', 'Displaced_disabilities', 'Livestock',\n",
      "       'Residential_destroyed', 'Commerical_destroyed', 'Residential_damaged',\n",
      "       'Commerical_damaged', 'Infra', 'Agricultural', 'Hydropower',\n",
      "       'Econ_damage', 'Sat_evidence', 'Ref_scientific', 'Ref_scientific_full',\n",
      "       'Ref_other', 'Remarks'],\n",
      "      dtype='object')\n"
     ]
    }
   ],
   "source": [
    "print(df_agg.columns)"
   ]
  },
  {
   "cell_type": "code",
   "execution_count": 5,
   "id": "1a9da664",
   "metadata": {},
   "outputs": [
    {
     "name": "stdout",
     "output_type": "stream",
     "text": [
      "Year_approx\n",
      "Lake_name\n",
      "Glacier_name\n",
      "GL_ID\n",
      "Lat_lake\n",
      "Lon_lake\n",
      "Elev_lake\n",
      "Lat_impact\n",
      "Lon_impact\n",
      "Elev_impact\n",
      "Impact_type\n",
      "Lake_type\n",
      "Transboundary\n",
      "Repeat\n",
      "Country\n",
      "Province\n",
      "River_Basin\n",
      "Driver_lake\n",
      "Driver_GLOF\n",
      "Mechanism\n",
      "Area\n",
      "Volume\n",
      "Discharge_water\n",
      "Discharge_solid\n",
      "Impact\n",
      "Lives_total\n",
      "Econ_damage\n"
     ]
    }
   ],
   "source": [
    "\"\"\"\n",
    "Data Preprocessing\n",
    "\"\"\"\n",
    "# Dropping the columns Year_exact, Month, Day\n",
    "columns_to_drop = ['GF_ID','Year_exact', 'Month', 'Day', 'Lives_male', 'LakeDB_ID', 'G_ID',\n",
    "'Lives_female', 'Lives_disabilities', 'Injured_total', 'Injured_male', 'Injured_female', 'Injured_disabilities', 'Displaced_total', 'Displaced_male', 'Displaced_female',\n",
    "'Displaced_disabilities', 'Livestock', 'Residential_destroyed', 'Commerical_destroyed', 'Residential_damaged', 'Commerical_damaged', 'Infra', 'Agricultural', 'Hydropower', \n",
    "'Sat_evidence', 'Ref_scientific', 'Ref_scientific_full', 'Ref_other', 'Remarks', 'Region_RGI', 'Region_HiMAP']\n",
    "\n",
    "\"\"\"\n",
    "Additional Columns that can be dropped\n",
    "GL_ID', 'LakeDB_ID\n",
    "Region_RGI\n",
    "Region_HiMAP\n",
    "Lives_total\n",
    "Econ_damage\n",
    "\"\"\"\n",
    "\n",
    "# Drop the specified columns\n",
    "df_agg.drop(columns=columns_to_drop, inplace=True)\n",
    "df_agg.head()\n",
    "\n",
    "for col in df_agg.columns:\n",
    "    print(col)"
   ]
  },
  {
   "cell_type": "code",
   "execution_count": 6,
   "id": "3c0318dd",
   "metadata": {},
   "outputs": [
    {
     "name": "stdout",
     "output_type": "stream",
     "text": [
      "<class 'pandas.core.frame.DataFrame'>\n",
      "RangeIndex: 703 entries, 0 to 702\n",
      "Data columns (total 27 columns):\n",
      " #   Column           Non-Null Count  Dtype  \n",
      "---  ------           --------------  -----  \n",
      " 0   Year_approx      555 non-null    float64\n",
      " 1   Lake_name        312 non-null    object \n",
      " 2   Glacier_name     410 non-null    object \n",
      " 3   GL_ID            572 non-null    object \n",
      " 4   Lat_lake         703 non-null    float64\n",
      " 5   Lon_lake         703 non-null    float64\n",
      " 6   Elev_lake        696 non-null    float64\n",
      " 7   Lat_impact       462 non-null    float64\n",
      " 8   Lon_impact       462 non-null    float64\n",
      " 9   Elev_impact      462 non-null    float64\n",
      " 10  Impact_type      462 non-null    object \n",
      " 11  Lake_type        673 non-null    object \n",
      " 12  Transboundary    703 non-null    object \n",
      " 13  Repeat           703 non-null    object \n",
      " 14  Country          703 non-null    object \n",
      " 15  Province         487 non-null    object \n",
      " 16  River_Basin      657 non-null    object \n",
      " 17  Driver_lake      141 non-null    object \n",
      " 18  Driver_GLOF      87 non-null     object \n",
      " 19  Mechanism        183 non-null    object \n",
      " 20  Area             34 non-null     float64\n",
      " 21  Volume           105 non-null    object \n",
      " 22  Discharge_water  72 non-null     float64\n",
      " 23  Discharge_solid  19 non-null     float64\n",
      " 24  Impact           24 non-null     object \n",
      " 25  Lives_total      30 non-null     object \n",
      " 26  Econ_damage      14 non-null     float64\n",
      "dtypes: float64(11), object(16)\n",
      "memory usage: 148.4+ KB\n"
     ]
    }
   ],
   "source": [
    "df_agg.info()"
   ]
  },
  {
   "cell_type": "code",
   "execution_count": 7,
   "id": "b64fa936",
   "metadata": {},
   "outputs": [
    {
     "name": "stdout",
     "output_type": "stream",
     "text": [
      "<class 'pandas.core.frame.DataFrame'>\n",
      "RangeIndex: 703 entries, 0 to 702\n",
      "Data columns (total 27 columns):\n",
      " #   Column           Non-Null Count  Dtype  \n",
      "---  ------           --------------  -----  \n",
      " 0   Year_approx      555 non-null    float64\n",
      " 1   Lake_name        312 non-null    object \n",
      " 2   Glacier_name     410 non-null    object \n",
      " 3   GL_ID            572 non-null    object \n",
      " 4   Lat_lake         703 non-null    float64\n",
      " 5   Lon_lake         703 non-null    float64\n",
      " 6   Elev_lake        696 non-null    float64\n",
      " 7   Lat_impact       462 non-null    float64\n",
      " 8   Lon_impact       462 non-null    float64\n",
      " 9   Elev_impact      462 non-null    float64\n",
      " 10  Impact_type      462 non-null    object \n",
      " 11  Lake_type        673 non-null    object \n",
      " 12  Transboundary    703 non-null    object \n",
      " 13  Repeat           703 non-null    object \n",
      " 14  Country          703 non-null    object \n",
      " 15  Province         487 non-null    object \n",
      " 16  River_Basin      657 non-null    object \n",
      " 17  Driver_lake      141 non-null    object \n",
      " 18  Driver_GLOF      87 non-null     object \n",
      " 19  Mechanism        183 non-null    object \n",
      " 20  Area             34 non-null     float64\n",
      " 21  Volume           105 non-null    object \n",
      " 22  Discharge_water  72 non-null     float64\n",
      " 23  Discharge_solid  19 non-null     float64\n",
      " 24  Impact           24 non-null     object \n",
      " 25  Lives_total      30 non-null     object \n",
      " 26  Econ_damage      14 non-null     float64\n",
      "dtypes: float64(11), object(16)\n",
      "memory usage: 148.4+ KB\n"
     ]
    }
   ],
   "source": [
    "\"\"\"\n",
    "# Remove the column: But this is an extreme case and should only be used when there are many null values in the column.\n",
    "# Columns to keep\n",
    "columns_to_keep = ['Year_approx', 'Lake_type', 'Lat_lake', 'Lon_lake', 'Elev_lake', 'Lake_name', 'Glacier_name', 'Impact_type', \n",
    "                   'Transboundary', 'Driver_lake', 'Driver_GLOF', 'Mechanism', 'Area', 'Volume', 'Impact', \n",
    "                   'Econ_damage']\n",
    "\n",
    "# Drop all columns except the ones in columns_to_keep\n",
    "df_cleaned = df_agg.drop(columns=df_agg.columns.difference(columns_to_keep), inplace=False)\n",
    "\n",
    "# Now df_cleaned contains only the specified columns\n",
    "df_cleaned.head()\n",
    "\n",
    "\"\"\"\n",
    "df_agg.info()"
   ]
  },
  {
   "cell_type": "markdown",
   "id": "e347c3d5",
   "metadata": {},
   "source": [
    "Year Approx"
   ]
  },
  {
   "cell_type": "code",
   "execution_count": 8,
   "id": "ea53ef61",
   "metadata": {},
   "outputs": [
    {
     "name": "stdout",
     "output_type": "stream",
     "text": [
      "Number of NULL values in 'Year_approx': 0\n"
     ]
    }
   ],
   "source": [
    "# Convert the column from string to numeric, leaving NA values unchanged\n",
    "df_agg['Year_approx'] = pd.to_numeric(df_agg['Year_approx'], errors='coerce')\n",
    "\n",
    "# Group by 'Country' and calculate the mean year of occurrence\n",
    "mean_year_by_country = df_agg.groupby('Country')['Year_approx'].mean()\n",
    "\n",
    "# Iterate over each country and fill missing values with the mean year\n",
    "for country, mean_year in mean_year_by_country.items():\n",
    "    # Filter rows for the current country\n",
    "    country_rows = df_agg[df_agg['Country'] == country]\n",
    "    \n",
    "    # Fill missing values with the mean year for the current country\n",
    "    df_agg.loc[country_rows.index, 'Year_approx'] = country_rows['Year_approx'].fillna(mean_year)\n",
    "\n",
    "\n",
    "column_name = \"Year_approx\"\n",
    "\n",
    "# Count the number of NULL values in the specified column\n",
    "null_count = df_agg[column_name].isnull().sum()\n",
    "\n",
    "# Print the number of NULL values\n",
    "print(f\"Number of NULL values in '{column_name}': {null_count}\")\n"
   ]
  },
  {
   "cell_type": "markdown",
   "id": "15cdec26",
   "metadata": {},
   "source": [
    "Lake_name"
   ]
  },
  {
   "cell_type": "code",
   "execution_count": 9,
   "id": "37873165",
   "metadata": {},
   "outputs": [
    {
     "name": "stdout",
     "output_type": "stream",
     "text": [
      "No.of NULL values in Lake_name 0\n"
     ]
    }
   ],
   "source": [
    "\"\"\" \n",
    "Filling Using\n",
    "\"Glacier_name\": If the lake is associated with a glacier, you can use the name of the glacier to infer the name of the lake.\n",
    "\"Country\": If the lake is located in a specific country, you might have information about common lake names in that country, which we can use to fill in the missing values.\n",
    "\"\"\"\n",
    "\n",
    "# Fill NA values in 'Lake_name' based on 'Glacier_name' and 'Country'\n",
    "df_agg['Lake_name'] = df_agg.apply(\n",
    "    lambda row: row['Glacier_name'] if pd.isna(row['Lake_name']) else row['Lake_name'], axis=1)\n",
    "\n",
    "df_agg['Lake_name'] = df_agg.apply(\n",
    "    lambda row: f\"Unnamed Lake in {row['Country']}\" if pd.isna(row['Lake_name']) else row['Lake_name'], axis=1)\n",
    "\n",
    "# Check if NA values are filled\n",
    "print(\"No.of NULL values in Lake_name\",df_agg['Lake_name'].isnull().sum())  # Should print 0 if all NA values are filled\n"
   ]
  },
  {
   "cell_type": "markdown",
   "id": "728b749b",
   "metadata": {},
   "source": [
    "Glacier_name"
   ]
  },
  {
   "cell_type": "code",
   "execution_count": 10,
   "id": "8693974b",
   "metadata": {},
   "outputs": [
    {
     "name": "stdout",
     "output_type": "stream",
     "text": [
      "No.of NULL values in Glacial_name 0\n"
     ]
    }
   ],
   "source": [
    "df_agg['Glacier_name'] = df_agg.apply(\n",
    "    lambda row: f\"Unnamed Glacier in {row['Country']}\" if pd.isna(row['Glacier_name']) else row['Glacier_name'], axis=1)\n",
    "\n",
    "# Check if NA values are filled\n",
    "print(\"No.of NULL values in Glacial_name\",df_agg['Lake_name'].isnull().sum())  # Should print 0 if all NA values are filled\n"
   ]
  },
  {
   "cell_type": "markdown",
   "id": "1934edf3",
   "metadata": {},
   "source": [
    "GL_ID"
   ]
  },
  {
   "cell_type": "code",
   "execution_count": 11,
   "id": "e597df88",
   "metadata": {},
   "outputs": [
    {
     "name": "stdout",
     "output_type": "stream",
     "text": [
      "No.of NULL values in GL_ID 0\n"
     ]
    }
   ],
   "source": [
    "# Group by 'Country' and calculate mode category of 'GL_ID'\n",
    "mode_gl_id_by_country = df_agg.groupby('Country')['GL_ID'].apply(lambda x: x.mode()[0] if not x.mode().empty else None)\n",
    "\n",
    "# Fill missing 'GL_ID' values based on mode category of corresponding country\n",
    "for country, mode_gl_id in mode_gl_id_by_country.items():\n",
    "    df_agg.loc[df_agg['Country'] == country, 'GL_ID'] = df_agg.loc[df_agg['Country'] == country, 'GL_ID'].fillna(mode_gl_id)\n",
    "\n",
    "# Check if NA values are filled\n",
    "print(\"No.of NULL values in GL_ID\",df_agg['GL_ID'].isnull().sum())  # Should print 0 if all NA values are filled"
   ]
  },
  {
   "cell_type": "code",
   "execution_count": 12,
   "id": "eb2cf9fc",
   "metadata": {},
   "outputs": [
    {
     "data": {
      "text/plain": [
       "\"\\n# Convert the whole dataframe as a string and display\\ndisplay(df_agg.to_string())\\n\\n# saving the dataframe\\ndf_agg.to_csv('Transformed.csv')\\n\""
      ]
     },
     "execution_count": 12,
     "metadata": {},
     "output_type": "execute_result"
    }
   ],
   "source": [
    "\"\"\"\n",
    "# Convert the whole dataframe as a string and display\n",
    "display(df_agg.to_string())\n",
    "\n",
    "# saving the dataframe\n",
    "df_agg.to_csv('Transformed.csv')\n",
    "\"\"\""
   ]
  },
  {
   "cell_type": "markdown",
   "id": "b1414f02",
   "metadata": {},
   "source": [
    "Lake_type: The type of lake (e.g., moraine dammed, ice dammed) can provide insights into the stability and potential for sudden drainage of the lake, which are critical factors in GLOF occurrence."
   ]
  },
  {
   "cell_type": "code",
   "execution_count": 13,
   "id": "1bcb53a9",
   "metadata": {},
   "outputs": [
    {
     "name": "stdout",
     "output_type": "stream",
     "text": [
      "Unique elements(Before):  ['Ice dammed' 'Supraglacial' nan 'Moraine dammed' 'Water pocket'\n",
      " 'Landslide dammed' 'Bedrock']\n",
      "Unique elements(After): ['Ice dammed' 'Supraglacial' 'Moraine dammed' 'Water pocket'\n",
      " 'Landslide dammed' 'Bedrock']\n"
     ]
    }
   ],
   "source": [
    "# Handling missing values of the lake type: By filling it with mode\n",
    "unique_Lake_type = df_agg['Lake_type'].unique()\n",
    "# Print the unique elements\n",
    "print(\"Unique elements(Before): \", unique_Lake_type)\n",
    "\n",
    "# Calculate the mode of the 'Lake_type' column\n",
    "mode_value = df_agg['Lake_type'].mode()[0]\n",
    "# Fill NaN values with the mode value\n",
    "df_agg['Lake_type'] = df_agg['Lake_type'].fillna(mode_value)\n",
    "\n",
    "unique_Lake_type = df_agg['Lake_type'].unique()\n",
    "print(\"Unique elements(After):\", unique_Lake_type)\n",
    "\n"
   ]
  },
  {
   "cell_type": "markdown",
   "id": "9a0f8d37",
   "metadata": {},
   "source": [
    "Lat_lake, Lon_lake: The geographical coordinates of the lake can help identify its location within the high mountain region, which is crucial for understanding the context and potential risks associated with GLOF events."
   ]
  },
  {
   "cell_type": "code",
   "execution_count": 14,
   "id": "76a853c3",
   "metadata": {},
   "outputs": [
    {
     "name": "stdout",
     "output_type": "stream",
     "text": [
      "Null Values(Before): Lat_lake 0 Lon_lake 0\n",
      "Null Values(After): Lat_lake 0 Lon_lake 0\n"
     ]
    }
   ],
   "source": [
    "# Handling missing values of the Lat_lake & Lon_lake by finding the average of the coordinates specific to that country\n",
    "\n",
    "# Now, missing latitude and longitude values are not filled with the average coordinates for each country\n",
    "print(\"Null Values(Before): Lat_lake\",df_agg['Lat_lake'].isnull().sum(), \"Lon_lake\",df_agg['Lon_lake'].isnull().sum())\n",
    "\n",
    "# Group the DataFrame by 'Country' and calculate average coordinates\n",
    "country_avg_coords = df_agg.groupby('Country')[['Lat_lake', 'Lon_lake']].mean()\n",
    "\n",
    "# Iterate over each group and fill missing values with the corresponding average coordinates\n",
    "for country, avg_coords in country_avg_coords.iterrows():\n",
    "    # Get average coordinates for the current country\n",
    "    avg_lat = avg_coords['Lat_lake']\n",
    "    avg_lon = avg_coords['Lon_lake']\n",
    "    \n",
    "    # Filter rows for the current country\n",
    "    country_rows = df_agg[df_agg['Country'] == country]\n",
    "    \n",
    "    # Fill missing latitude and longitude values with the corresponding average coordinates\n",
    "    df_agg.loc[country_rows.index, 'Lat_lake'] = country_rows['Lat_lake'].fillna(avg_lat)\n",
    "    df_agg.loc[country_rows.index, 'Lon_lake'] = country_rows['Lon_lake'].fillna(avg_lon)\n",
    "\n",
    "# Now, missing latitude and longitude values are filled with the average coordinates for each country\n",
    "print(\"Null Values(After): Lat_lake\",df_agg['Lat_lake'].isnull().sum(), \"Lon_lake\",df_agg['Lon_lake'].isnull().sum())\n"
   ]
  },
  {
   "cell_type": "markdown",
   "id": "397868ae",
   "metadata": {},
   "source": [
    "Elev_lake: The elevation of the lake is important as higher elevation lakes may have different characteristics and risks compared to lower elevation ones. Higher elevation lakes might be more prone to rapid melting and sudden drainage events."
   ]
  },
  {
   "cell_type": "code",
   "execution_count": 15,
   "metadata": {},
   "outputs": [
    {
     "name": "stdout",
     "output_type": "stream",
     "text": [
      "Null Values(Before): Elev_lake 7\n",
      "Null Values(After): Elev_lake 0\n"
     ]
    }
   ],
   "source": [
    "\n",
    "# Now, missing elevation values are not filled with the average coordinates for each country\n",
    "print(\"Null Values(Before): Elev_lake\",df_agg['Elev_lake'].isnull().sum())\n",
    "\n",
    "\"\"\"\n",
    "# Group the DataFrame by 'Glacier_name' and calculate average elevation for each glacier\n",
    "glacier_avg_elev = df_agg.groupby('Glacier_name')[['Elev_lake']].mean()\n",
    "\n",
    "# Iterate over each glacier and fill missing elevation values\n",
    "for glacier, avg_elev in glacier_avg_elev.iterrows():\n",
    "    # Filter rows for the current glacier\n",
    "    glacier_rows = df_agg[df_agg['Glacier_name'] == glacier]\n",
    "    \n",
    "    # Fill missing elevation values with the average elevation for the current glacier\n",
    "    df_agg.loc[glacier_rows.index, 'Elev_lake'] = glacier_rows['Elev_lake'].fillna(avg_elev)\n",
    "\n",
    "# Now, missing elevation values are not filled with the average coordinates for each country\n",
    "print(\"Null Values(In Between): Elev_lake\",df_agg['Elev_lake'].isnull().sum())\n",
    "\n",
    "# Group the DataFrame by 'Country' and calculate average elevation for each country\n",
    "country_avg_elev = df_agg.groupby('Country')[['Elev_lake']].mean()\n",
    "\n",
    "# Iterate over each country and fill missing elevation values\n",
    "for country, avg_elev in country_avg_elev.iterrows():\n",
    "    # Filter rows for the current country\n",
    "    country_rows = df_agg[df_agg['Country'] == country]\n",
    "    \n",
    "    # Fill missing elevation values with the average elevation for the current country\n",
    "    df_agg.loc[country_rows.index, 'Elev_lake'] = country_rows['Elev_lake'].fillna(avg_elev)\n",
    "\"\"\"\n",
    "\n",
    "\"\"\" \n",
    "# Group the DataFrame by 'Glacier_name' and calculate average elevation for each glacier\n",
    "glacier_avg_elevation = df_agg.groupby('Glacier_name')['Elev_lake'].mean()\n",
    "\n",
    "# Group the DataFrame by 'Country' and calculate average elevation for each country\n",
    "country_avg_elevation = df_agg.groupby('Country')['Elev_lake'].mean()\n",
    "\n",
    "# Iterate over each row and fill missing elevation values\n",
    "for index, row in df_agg.iterrows():\n",
    "    if pd.isna(row['Elev_lake']):  # Check if elevation value is missing\n",
    "        if pd.notna(row['Glacier_name']):  # Check if Glacier_name is available\n",
    "            # Fill missing elevation with average elevation for the corresponding glacier\n",
    "            df_agg.at[index, 'Elev_lake'] = glacier_avg_elevation[row['Glacier_name']]\n",
    "        else:\n",
    "            # Fill missing elevation with average elevation for the corresponding country\n",
    "            df_agg.at[index, 'Elev_lake'] = country_avg_elevation[row['Country']]\n",
    "\n",
    "# Now, missing elevation values are filled with the average elevations for each specific glacier or country\n",
    "\"\"\"\n",
    "\n",
    "# Group the DataFrame by 'Country' and calculate average coordinates\n",
    "country_avg_elevation = df_agg.groupby('Country')[['Elev_lake']].mean()\n",
    "\n",
    "# Iterate over each group and fill missing values with the corresponding average coordinates\n",
    "for country, avg_elev in country_avg_elevation.iterrows():\n",
    "    # Get average elevation for the current country\n",
    "    avg_elevation = avg_elev['Elev_lake']\n",
    "    \n",
    "    # Filter rows for the current country\n",
    "    country_rows = df_agg[df_agg['Country'] == country]\n",
    "    \n",
    "    # Fill missing latitude and longitude values with the corresponding average coordinates\n",
    "    df_agg.loc[country_rows.index, 'Elev_lake'] = country_rows['Elev_lake'].fillna(avg_elevation)\n",
    "\n",
    "# Now, missing elevation values are filled with the average elevations for each specific glacier or country\n",
    "print(\"Null Values(After): Elev_lake\",df_agg['Elev_lake'].isnull().sum())"
   ]
  },
  {
   "cell_type": "code",
   "execution_count": 16,
   "id": "03f28aa4",
   "metadata": {},
   "outputs": [
    {
     "name": "stdout",
     "output_type": "stream",
     "text": [
      "Null Values(After): Lat_impact 0\n",
      "Null Values(After): Lon_impact 0\n",
      "Null Values(After): Elev_impact 0\n"
     ]
    }
   ],
   "source": [
    "\"\"\" \n",
    "Lat_impact, Lon_impact, Elev_impact\n",
    "\"\"\"\n",
    "# Group the DataFrame by 'Glacier_name' and calculate average latitude, longitude, and elevation for each glacier\n",
    "glacier_avg = df_agg.groupby('Glacier_name')[['Lat_impact', 'Lon_impact', 'Elev_impact']].mean()\n",
    "\n",
    "# Iterate over each glacier and fill missing values with corresponding averages\n",
    "for glacier, avg_values in glacier_avg.iterrows():\n",
    "    glacier_rows = df_agg[df_agg['Glacier_name'] == glacier]\n",
    "    df_agg.loc[glacier_rows.index, 'Lat_impact'] = glacier_rows['Lat_impact'].fillna(avg_values['Lat_impact'])\n",
    "    df_agg.loc[glacier_rows.index, 'Lon_impact'] = glacier_rows['Lon_impact'].fillna(avg_values['Lon_impact'])\n",
    "    df_agg.loc[glacier_rows.index, 'Elev_impact'] = glacier_rows['Elev_impact'].fillna(avg_values['Elev_impact'])\n",
    "\n",
    "# For glaciers with missing names, group the DataFrame by 'Country' and calculate average latitude, longitude, and elevation\n",
    "country_avg = df_agg.groupby('Country')[['Lat_impact', 'Lon_impact', 'Elev_impact']].mean()\n",
    "\n",
    "# Iterate over each country and fill missing values with corresponding averages\n",
    "for country, avg_values in country_avg.iterrows():\n",
    "    country_rows = df_agg[df_agg['Country'] == country]\n",
    "    df_agg.loc[country_rows.index, 'Lat_impact'] = country_rows['Lat_impact'].fillna(avg_values['Lat_impact'])\n",
    "    df_agg.loc[country_rows.index, 'Lon_impact'] = country_rows['Lon_impact'].fillna(avg_values['Lon_impact'])\n",
    "    df_agg.loc[country_rows.index, 'Elev_impact'] = country_rows['Elev_impact'].fillna(avg_values['Elev_impact'])\n",
    "\n",
    "print(\"Null Values(After): Lat_impact\",df_agg['Lat_impact'].isnull().sum())\n",
    "print(\"Null Values(After): Lon_impact\",df_agg['Lon_impact'].isnull().sum())\n",
    "print(\"Null Values(After): Elev_impact\",df_agg['Elev_impact'].isnull().sum())"
   ]
  },
  {
   "cell_type": "markdown",
   "id": "91a082d4",
   "metadata": {},
   "source": [
    "Impact_type: Understanding the quality of impact records (e.g., 'Observation' or 'Deposit') can help assess the severity and extent of past GLOF events, which in turn can inform predictions about future occurrences."
   ]
  },
  {
   "cell_type": "code",
   "execution_count": 17,
   "id": "06341935",
   "metadata": {},
   "outputs": [],
   "source": [
    "# Most of the values in Impact_type are Unknown/NA: So its better to remove the column\n",
    "df_agg = df_agg.drop('Impact_type', axis=1)\n"
   ]
  },
  {
   "cell_type": "markdown",
   "id": "18753398",
   "metadata": {},
   "source": [
    "Province"
   ]
  },
  {
   "cell_type": "code",
   "execution_count": 18,
   "id": "1bfaa89b",
   "metadata": {},
   "outputs": [
    {
     "name": "stdout",
     "output_type": "stream",
     "text": [
      "Unique elements(Before):  ['Ladakh' 'Gandaki' 'Gilgit - Baltistan' nan 'Xinjiang' 'Koshi' 'TAR'\n",
      " 'Almaty' 'Punakha' 'Kashmir' 'Himachal Pradesh' 'Bagmati' 'Sikkim'\n",
      " 'Bumthang' 'Gorno-Badakhshan' 'Karnali' 'Khyber Pakhtunkhwa' 'Chitral'\n",
      " 'Badakhshan' 'Uttarakhand' 'Province No. 1' 'Panjshir' 'Sichuan'\n",
      " 'Wangduephodrang' 'Kunar' 'Thimphu' 'Arunachal Pradesh']\n",
      "No.of NULL values in Province 216\n",
      "No.of NULL values in Province 0\n",
      "Unique elements(After):  ['Ladakh' 'Gandaki' 'Gilgit - Baltistan' 'Kyrgyzstan' 'Xinjiang'\n",
      " 'Tajikistan' 'Koshi' 'TAR' 'Almaty' 'Punakha' 'Kazakhstan' 'Kashmir'\n",
      " 'Himachal Pradesh' 'China' 'Bagmati' 'Sikkim' 'Bumthang'\n",
      " 'Gorno-Badakhshan' 'Karnali' 'Khyber Pakhtunkhwa' 'Chitral' 'Badakhshan'\n",
      " 'Uttarakhand' 'Province No. 1' 'Panjshir' 'Sichuan' 'Wangduephodrang'\n",
      " 'Kunar' 'Thimphu' 'Arunachal Pradesh']\n"
     ]
    }
   ],
   "source": [
    "\n",
    "\n",
    "\n",
    "# Handling missing values of the Province: By filling it with mode specific to that country\n",
    "unique_Province = df_agg['Province'].unique()\n",
    "# Print the unique elements\n",
    "print(\"Unique elements(Before): \", unique_Province)\n",
    "\n",
    "# Check if NA values are filled\n",
    "print(\"No.of NULL values in Province\",df_agg['Province'].isnull().sum())  # Should print 0 if all NA values are filled\n",
    "\n",
    "# # Replace NaN values with \"NA\" in the 'Province' column\n",
    "# df_agg['Province'] = df_agg['Province'].fillna(\"NA\")\n",
    "\n",
    "# # Define a function to fill missing values with mode if mode exists, otherwise fill with \"Unknown\"\n",
    "# def fill_with_mode_or_unknown(x):\n",
    "#     mode_values = x.mode()\n",
    "#     if not mode_values.empty:\n",
    "#         return x.fillna(mode_values[0])\n",
    "#     else:\n",
    "#         return x.fillna(\"Unknown\")\n",
    "\n",
    "# # Group by 'Country' and fill missing 'Province' values with the mode of 'Province' within each country\n",
    "# df_agg['Province'] = df_agg.groupby('Country')['Province'].transform(fill_with_mode_or_unknown)\n",
    "\n",
    "\n",
    "# Fill NA values in 'Province' based on 'Glacier_name' and 'Country'\n",
    "df_agg['Province'] = df_agg.apply(\n",
    "    lambda row: row['Country'] if pd.isna(row['Province']) else row['Province'], axis=1)\n",
    "\n",
    "# Check if NA values are filled\n",
    "print(\"No.of NULL values in Province\",df_agg['Province'].isnull().sum())  # Should print 0 if all NA values are filled\n",
    "\n",
    "unique_Province = df_agg['Province'].unique()\n",
    "# Print the unique elements\n",
    "print(\"Unique elements(After): \", unique_Province)\n"
   ]
  },
  {
   "cell_type": "markdown",
   "id": "5c609e65",
   "metadata": {},
   "source": [
    "River basin"
   ]
  },
  {
   "cell_type": "code",
   "execution_count": 19,
   "id": "7024bd0a",
   "metadata": {},
   "outputs": [
    {
     "name": "stdout",
     "output_type": "stream",
     "text": [
      "Unique elements(Before):  ['Shyok' 'Seti' 'Braldu' 'Hunza' 'Gilgit' 'Alamedin' 'Indus' 'Shigar'\n",
      " 'Ala Archa' 'Yarkant' 'Bagrot' 'Inylchek' 'Vanch' 'Tamor' 'Shaksgam'\n",
      " 'Parlung Zangbo' 'Poiqu' 'Amo Chhu' 'Nian Chu' 'Kishi Almaty' 'Bomi'\n",
      " 'Yalong Tsangpo' nan 'Pho Chhu ' 'Izzyk' 'Gyirong' 'Pumqu'\n",
      " 'Gongbujiangda/Tangbulang (Nyang) ' 'Nyang' 'Leviy Talgar' 'Kangbuqu'\n",
      " 'Suo/Xibaxiaqu ' 'Nujiang' 'Kishi Almatinka' 'Srednii Talgar' 'Tong'\n",
      " 'Nubra' 'Kumbelisu' 'Dudh Koshi' 'Middle Talgar' 'Kaskelen'\n",
      " 'Luozha Zhangmu' 'Baspa' 'Tanymas' 'Sarykan' 'Shilik' 'Upper Mustang'\n",
      " 'Hushe' 'Tama Koshi' 'Rongxia' 'Maquan' 'Changme' 'Chamkhar Chhu'\n",
      " 'Alauddin' 'Shakhdara' 'Nyalam' 'Luozhaxiongqu' 'Humla' 'Chitral'\n",
      " 'Yarlung Tsangpo' 'Zymdan' 'Cona' 'Bianba' 'Upper Indus' 'Yasin'\n",
      " 'Sanglich' 'Alaknanda' 'Kargaly' 'Mo Chhu ' 'Arkary' 'Nooruz' 'Arun'\n",
      " 'Panjshir' 'Ishkoman' 'Yangtze' 'Toguzbulak' 'Chitral ' 'Yigong Zangbo'\n",
      " 'Ghizer' 'Melamchi' 'Teesta' 'Mangde Chhu' 'Pyanj' 'Shugnan' 'Kunar'\n",
      " 'Syn Tash' 'Zanskar' 'Chenab' 'Sutlej' 'Bhagirathi' 'Dhauliganga'\n",
      " 'West Seti' 'Bheri' 'Kali Gandaki' 'Marsyangdi' 'Yarlung Zangbo'\n",
      " 'Budhi Gandaki' 'Pelkhu' 'Dogxung Zangbo' 'East Rathong' 'Zemu'\n",
      " 'Pa Chhu ' 'Mo Chhu' 'Pho Chhu' 'Lhasa' 'Kuri Chhu' 'Kuri Chhu '\n",
      " 'Chamkhar Chhu ' 'Subansiri' 'Lohit' 'Mugu Karnali' 'Manas' 'Aksu']\n",
      "No.of NULL values in River_Basin 46\n",
      "No.of NULL values in Province 0\n",
      "Unique elements(After):  ['Shyok' 'Seti' 'Braldu' 'Hunza' 'Gilgit' 'Alamedin' 'Indus' 'Shigar'\n",
      " 'Ala Archa' 'Yarkant' 'Bagrot' 'Inylchek' 'Vanch' 'Tamor' 'Shaksgam'\n",
      " 'Parlung Zangbo' 'Poiqu' 'Amo Chhu' 'Nian Chu' 'Kishi Almaty' 'Bomi'\n",
      " 'Yalong Tsangpo' 'Tajikistan' 'Pho Chhu ' 'Izzyk' 'Gyirong' 'Pumqu'\n",
      " 'Gongbujiangda/Tangbulang (Nyang) ' 'Nyang' 'Leviy Talgar' 'Kangbuqu'\n",
      " 'Suo/Xibaxiaqu ' 'Nujiang' 'Kishi Almatinka' 'Srednii Talgar' 'Tong'\n",
      " 'Nubra' 'Kumbelisu' 'Dudh Koshi' 'Middle Talgar' 'Kaskelen'\n",
      " 'Luozha Zhangmu' 'Baspa' 'Tanymas' 'Sarykan' 'Shilik' 'Kyrgyzstan'\n",
      " 'Upper Mustang' 'Hushe' 'China' 'Tama Koshi' 'Rongxia' 'Maquan' 'Changme'\n",
      " 'Chamkhar Chhu' 'Alauddin' 'Shakhdara' 'Nyalam' 'Luozhaxiongqu' 'Humla'\n",
      " 'Chitral' 'Yarlung Tsangpo' 'Zymdan' 'Cona' 'Bianba' 'Upper Indus'\n",
      " 'Yasin' 'Sanglich' 'Alaknanda' 'Kargaly' 'Mo Chhu ' 'Arkary' 'Nooruz'\n",
      " 'Arun' 'Panjshir' 'Ishkoman' 'Yangtze' 'Toguzbulak' 'Chitral '\n",
      " 'Yigong Zangbo' 'Ghizer' 'Melamchi' 'Teesta' 'Mangde Chhu' 'Pyanj'\n",
      " 'Shugnan' 'Kunar' 'Syn Tash' 'Zanskar' 'Kazakhstan' 'Chenab' 'Sutlej'\n",
      " 'Bhagirathi' 'Dhauliganga' 'West Seti' 'Bheri' 'Kali Gandaki'\n",
      " 'Marsyangdi' 'Yarlung Zangbo' 'Budhi Gandaki' 'Pelkhu' 'Dogxung Zangbo'\n",
      " 'East Rathong' 'Zemu' 'Pa Chhu ' 'Mo Chhu' 'Pho Chhu' 'Lhasa' 'Kuri Chhu'\n",
      " 'Kuri Chhu ' 'Chamkhar Chhu ' 'Subansiri' 'Lohit' 'Mugu Karnali' 'Manas'\n",
      " 'Aksu']\n"
     ]
    }
   ],
   "source": [
    "# Handling missing values of the Province: By filling it with mode specific to that country\n",
    "River_Basin = df_agg['River_Basin'].unique()\n",
    "# Print the unique elements\n",
    "print(\"Unique elements(Before): \", River_Basin)\n",
    "\n",
    "# Check if NA values are filled\n",
    "print(\"No.of NULL values in River_Basin\",df_agg['River_Basin'].isnull().sum())  # Should print 0 if all NA values are filled\n",
    "\n",
    "# Fill NA values in 'River_Basin' based on 'Glacier_name' and 'Country'\n",
    "df_agg['River_Basin'] = df_agg.apply(\n",
    "    lambda row: row['Country'] if pd.isna(row['River_Basin']) else row['River_Basin'], axis=1)\n",
    "\n",
    "# Check if NA values are filled\n",
    "print(\"No.of NULL values in Province\",df_agg['River_Basin'].isnull().sum())  # Should print 0 if all NA values are filled\n",
    "\n",
    "unique_Province = df_agg['River_Basin'].unique()\n",
    "# Print the unique elements\n",
    "print(\"Unique elements(After): \", unique_Province)"
   ]
  },
  {
   "cell_type": "code",
   "execution_count": 20,
   "id": "30df89c6",
   "metadata": {},
   "outputs": [],
   "source": [
    "\"\"\"   \n",
    "Most of the data cells in the column are empty but this feature is important so, adam optimizer can handle the sparse values\n",
    "\"\"\"\n",
    "# Assuming df_agg is your DataFrame\n",
    "df_agg['Driver_lake'] = df_agg['Driver_lake'].fillna(\"Missing\")\n",
    "df_agg['Driver_GLOF'] = df_agg['Driver_GLOF'].fillna(\"Missing\")\n",
    "df_agg['Mechanism'] = df_agg['Mechanism'].fillna(\"Missing\")"
   ]
  },
  {
   "cell_type": "markdown",
   "id": "438ce25b",
   "metadata": {},
   "source": [
    "Transboundary: Information about whether the impact of the GLOF is potentially transboundary can help in assessing broader risks and coordinating mitigation efforts across borders."
   ]
  },
  {
   "cell_type": "code",
   "execution_count": 21,
   "id": "904883c3",
   "metadata": {},
   "outputs": [],
   "source": [
    "\"\"\"\n",
    "20  Area             34 non-null     float64\n",
    "21  Volume           105 non-null    object \n",
    "22  Discharge_water  72 non-null     float64\n",
    "23  Discharge_solid  19 non-null     float64\n",
    "24  Impact           24 non-null     object \n",
    "25  Lives_total      30 non-null     object \n",
    "26  Econ_damage      14 non-null     float64\n",
    "\n",
    "Removing these columns as most of the data is NULL\n",
    "\"\"\"\n",
    "columns_to_drop = ['Area', 'Volume', 'Discharge_water', 'Discharge_solid', 'Impact', 'Lives_total', 'Econ_damage']\n",
    "df_agg = df_agg.drop(columns=columns_to_drop, axis=1)\n",
    "\n",
    "\n",
    "# Mapping dictionary\n",
    "truth_map = {'Y': 1, 'N': 0}\n",
    "\n",
    "# Apply mapping to convert 'Transboundary' column values\n",
    "df_agg['Transboundary'] = df_agg['Transboundary'].map(truth_map)\n",
    "df_agg['Repeat'] = df_agg['Repeat'].map(truth_map)\n"
   ]
  },
  {
   "cell_type": "code",
   "execution_count": 22,
   "id": "1d137d2c",
   "metadata": {},
   "outputs": [
    {
     "name": "stdout",
     "output_type": "stream",
     "text": [
      "Target Label Repeat\n",
      "1    416\n",
      "0    287\n",
      "Name: count, dtype: int64\n"
     ]
    }
   ],
   "source": [
    "column_name = 'Repeat'\n",
    "\n",
    "# Get a list of column names excluding the one you want to move\n",
    "other_columns = [col for col in df_agg.columns if col != column_name]\n",
    "\n",
    "# Reorder the DataFrame with the desired column at the end\n",
    "df_agg = df_agg[other_columns + [column_name]]\n",
    "\n",
    "counts = df_agg['Repeat'].value_counts()\n",
    "print(\"Target Label\", counts)\n",
    "# saving the data-frame for analysis\n",
    "df_agg.to_csv('Transformed.csv')"
   ]
  },
  {
   "cell_type": "markdown",
   "metadata": {},
   "source": [
    "***Feature Selection***"
   ]
  },
  {
   "cell_type": "code",
   "execution_count": 23,
   "metadata": {},
   "outputs": [],
   "source": [
    "\"\"\"  \n",
    "The logic behind using correlation for feature selection is that good variables correlate highly with the target. \n",
    "If two variables are correlated, we can predict one from the other. Therefore, if two features are correlated, \n",
    "the model only needs one, as the second does not add additional information. \n",
    "\"\"\"\n",
    "from sklearn.preprocessing import LabelEncoder\n",
    "\n",
    "# Initialize LabelEncoder\n",
    "label_encoder = LabelEncoder()\n",
    "\n",
    "# cat_cols is a list of column names containing categorical variables\n",
    "cat_cols = ['Lake_name', 'Glacier_name', 'GL_ID', 'Lake_type', 'Country', 'Province', 'River_Basin', 'Driver_lake', 'Driver_GLOF', 'Mechanism']\n",
    "\n",
    "# Encode categorical columns\n",
    "for col in cat_cols:\n",
    "    df_agg[col] = label_encoder.fit_transform(df_agg[col].astype(str))\n",
    "\n",
    "# z scale encoding\n",
    "# df_agg=(df_agg-df_agg.mean())/df_agg.std()\n",
    "\n",
    "# Normalize using Min/Max Normalization.\n",
    "df_agg=(df_agg-df_agg.min())/(df_agg.max()-df_agg.min())"
   ]
  },
  {
   "cell_type": "code",
   "execution_count": 24,
   "id": "4eee4247-630c-4c1c-aea7-2a5c5deca2ba",
   "metadata": {},
   "outputs": [],
   "source": [
    "# Drop the 'Repeat' column to get the features (X)\n",
    "X = df_agg.drop(columns=['Repeat'], axis=1)\n",
    "X = X.values\n",
    "\n",
    "# 'Repeat' column is your target variable (Y)\n",
    "y = df_agg['Repeat'].values\n",
    "\n",
    "# Split training and testing data\n",
    "X_train, X_test, y_train, y_test = train_test_split(X, y, test_size = 0.2, random_state = 1)"
   ]
  },
  {
   "cell_type": "code",
   "execution_count": 25,
   "metadata": {},
   "outputs": [
    {
     "name": "stdout",
     "output_type": "stream",
     "text": [
      "(562, 18)\n",
      "(562,)\n"
     ]
    }
   ],
   "source": [
    "print(X_train.shape)\n",
    "print(y_train.shape)\n"
   ]
  },
  {
   "cell_type": "code",
   "execution_count": 26,
   "id": "7f0aac0e",
   "metadata": {},
   "outputs": [
    {
     "name": "stdout",
     "output_type": "stream",
     "text": [
      "Best parameters: {'bootstrap': False, 'max_depth': 10, 'min_samples_leaf': 1, 'min_samples_split': 2, 'n_estimators': 100}\n",
      "              precision    recall  f1-score   support\n",
      "\n",
      "         0.0       0.94      0.92      0.93        50\n",
      "         1.0       0.96      0.97      0.96        91\n",
      "\n",
      "    accuracy                           0.95       141\n",
      "   macro avg       0.95      0.94      0.95       141\n",
      "weighted avg       0.95      0.95      0.95       141\n",
      "\n"
     ]
    }
   ],
   "source": [
    "from sklearn.ensemble import RandomForestClassifier\n",
    "from sklearn.model_selection import GridSearchCV\n",
    "from sklearn.metrics import classification_report\n",
    "\n",
    "# Define the parameter grid\n",
    "param_grid = {\n",
    "    'n_estimators': [50, 100, 200],\n",
    "    'max_depth': [None, 10, 20],\n",
    "    'min_samples_split': [2, 5, 10],\n",
    "    'min_samples_leaf': [1, 2, 4],\n",
    "    'bootstrap': [True, False]\n",
    "}\n",
    "\n",
    "# Create a Random Forest classifier\n",
    "rf_classifier = RandomForestClassifier(random_state=42)\n",
    "\n",
    "# Create GridSearchCV object\n",
    "rf_classifier = GridSearchCV(rf_classifier, param_grid, cv=5, scoring='accuracy')\n",
    "\n",
    "# Train the model\n",
    "rf_classifier.fit(X_train, y_train)\n",
    "\n",
    "# Print the best parameters found by GridSearchCV\n",
    "print(\"Best parameters:\", rf_classifier.best_params_)\n",
    "\n",
    "# Get the best model\n",
    "best_rf_model = rf_classifier.best_estimator_\n",
    "\n",
    "# Make predictions on the test set\n",
    "y_pred = best_rf_model.predict(X_test)\n",
    "\n",
    "# Print classification report\n",
    "print(classification_report(y_test, y_pred))\n",
    "\n"
   ]
  },
  {
   "cell_type": "code",
   "execution_count": 27,
   "id": "bf614d5f",
   "metadata": {},
   "outputs": [
    {
     "name": "stdout",
     "output_type": "stream",
     "text": [
      "Confusion Matrix:\n",
      " [[46  4]\n",
      " [ 3 88]]\n",
      "Accuracy:         0.950354609929078\n",
      "Recall Score:     0.967032967032967\n",
      "Precision Score:  0.9565217391304348\n",
      "F1 Score:         0.9617486338797815\n",
      "ROC_AUC Score:    0.9435164835164835\n"
     ]
    },
    {
     "data": {
      "image/png": "[encoded data removed]",
      "text/plain": [
       "<Figure size 640x480 with 2 Axes>"
      ]
     },
     "metadata": {},
     "output_type": "display_data"
    }
   ],
   "source": [
    "#score\n",
    "from sklearn.metrics import precision_score, accuracy_score, roc_auc_score, confusion_matrix,f1_score, roc_curve, auc, recall_score\n",
    "\n",
    "# AFTER CV \n",
    "print(\"Confusion Matrix:\\n\", confusion_matrix(y_test, y_pred))\n",
    "print(\"Accuracy:        \", accuracy_score(y_test, y_pred))\n",
    "print(\"Recall Score:    \", recall_score(y_test, y_pred, zero_division=1))     \n",
    "print(\"Precision Score: \",precision_score(y_test, y_pred, zero_division=1))\n",
    "print(\"F1 Score:        \", f1_score(y_test, y_pred,zero_division=1))\n",
    "print(\"ROC_AUC Score:   \",roc_auc_score(y_test,y_pred,multi_class='ovr'))\n",
    "\n",
    "\n",
    "\n",
    "cm = confusion_matrix(y_test, y_pred)\n",
    "# Create an instance of the ConfusionMatrixDisplay class\n",
    "cmd = ConfusionMatrixDisplay(cm, display_labels=['Class 0', 'Class 1'])\n",
    "# Call the plot() method of the ConfusionMatrixDisplay object to display the confusion matrix\n",
    "cmd.plot()\n",
    "\n",
    "# plot_confusion_matrix(clf, X_test, y_test)  \n",
    "plt.show()\n"
   ]
  },
  {
   "cell_type": "code",
   "execution_count": 28,
   "id": "ccef7a9d",
   "metadata": {},
   "outputs": [
    {
     "data": {
      "image/png": "[encoded data removed]",
      "text/plain": [
       "<Figure size 500x500 with 1 Axes>"
      ]
     },
     "metadata": {},
     "output_type": "display_data"
    }
   ],
   "source": [
    "fpr, tpr, threshold = roc_curve(y_test, y_pred)\n",
    "auc = auc(fpr, tpr)\n",
    "\n",
    "plt.figure(figsize=(5, 5), dpi=100)\n",
    "plt.plot(fpr, tpr, linestyle='-', label='Meta Classifier (auc = %0.3f)' % auc)\n",
    "plt.title(\"Receiver Operating Characteristic (ROC Curve)\")\n",
    "plt.xlabel('False Positive Rate -->')\n",
    "plt.ylabel('True Positive Rate -->')\n",
    "\n",
    "plt.legend()\n",
    "plt.show()"
   ]
  },
  {
   "cell_type": "code",
   "execution_count": 29,
   "id": "da863785",
   "metadata": {},
   "outputs": [
    {
     "data": {
      "image/png": "[encoded data removed]",
      "text/plain": [
       "<Figure size 640x480 with 1 Axes>"
      ]
     },
     "metadata": {},
     "output_type": "display_data"
    }
   ],
   "source": [
    "# #AP = Average precision\n",
    "# from sklearn.metrics import PrecisionRecallDisplay\n",
    "\n",
    "# display = PrecisionRecallDisplay.from_estimator(\n",
    "#     model_stack, X_test, y_test, name=\"MLP\"\n",
    "# )\n",
    "# _ = display.ax_.set_title(\"2-class Precision-Recall curve\")\n",
    "\n",
    "\n",
    "from sklearn.metrics import precision_recall_curve, PrecisionRecallDisplay\n",
    "\n",
    "# Predict probabilities instead of class labels\n",
    "y_proba = rf_classifier.predict_proba(X_test)\n",
    "\n",
    "# Extract probabilities for the positive class\n",
    "y_proba_positive_class = y_proba[:, 1]\n",
    "\n",
    "# Calculate precision and recall\n",
    "precision, recall, _ = precision_recall_curve(y_test, y_proba_positive_class)\n",
    "\n",
    "# Plot precision-recall curve\n",
    "display = PrecisionRecallDisplay(precision=precision, recall=recall).plot()\n"
   ]
  },
  {
   "cell_type": "code",
   "execution_count": 32,
   "id": "939a9384",
   "metadata": {},
   "outputs": [
    {
     "name": "stdout",
     "output_type": "stream",
     "text": [
      "Optimized Parameters {'learning_rate': 1.0, 'n_estimators': 200}\n",
      "Accuracy: 0.9394753476611883\n"
     ]
    }
   ],
   "source": [
    "from sklearn.ensemble import AdaBoostClassifier\n",
    "from sklearn.model_selection import GridSearchCV\n",
    "\n",
    "# Define the AdaBoost classifier\n",
    "ada_classifier = AdaBoostClassifier(random_state=42)\n",
    "\n",
    "# Define the parameter grid for grid search\n",
    "param_grid = {\n",
    "    'n_estimators': [50, 100, 200],  # Number of weak learners to train iteratively\n",
    "    'learning_rate': [0.01, 0.1, 1.0]  # Weight of weak learners (default is 1.0)\n",
    "}\n",
    "\n",
    "# Perform grid search with cross-validation\n",
    "ada_classifier = GridSearchCV(estimator=ada_classifier, param_grid=param_grid, cv=5, scoring='accuracy')\n",
    "ada_classifier.fit(X_train, y_train)\n",
    "\n",
    "\n",
    "print(\"Optimized Parameters\", ada_classifier.best_params_)\n",
    "print(\"Accuracy:\", ada_classifier.best_score_)\n",
    "\n",
    "ada_classifier = ada_classifier.best_estimator_\n",
    "\n",
    "# Make predictions with the best model\n",
    "y_pred = ada_classifier.predict(X_test)"
   ]
  },
  {
   "cell_type": "code",
   "execution_count": 33,
   "id": "f06ab2d5",
   "metadata": {},
   "outputs": [
    {
     "name": "stdout",
     "output_type": "stream",
     "text": [
      "accuracy score of Stacked model: 95.0354609929078\n"
     ]
    }
   ],
   "source": [
    "\n",
    "acc_stack = accuracy_score(y_test, y_pred)  # evaluating accuracy\n",
    "print('accuracy score of Stacked model:', acc_stack * 100)"
   ]
  },
  {
   "cell_type": "code",
   "execution_count": 34,
   "id": "feeb00c7",
   "metadata": {},
   "outputs": [
    {
     "name": "stdout",
     "output_type": "stream",
     "text": [
      "Confusion Matrix:\n",
      " [[44  6]\n",
      " [ 1 90]]\n",
      "Accuracy:         0.950354609929078\n",
      "Recall Score:     0.989010989010989\n",
      "Precision Score:  0.9375\n",
      "F1 Score:         0.9625668449197862\n",
      "ROC_AUC Score:    0.9345054945054946\n"
     ]
    },
    {
     "data": {
      "image/png": "[encoded data removed]",
      "text/plain": [
       "<Figure size 640x480 with 2 Axes>"
      ]
     },
     "metadata": {},
     "output_type": "display_data"
    }
   ],
   "source": [
    "#score\n",
    "from sklearn.metrics import precision_score, accuracy_score, roc_auc_score, confusion_matrix,f1_score, roc_curve, auc, recall_score\n",
    "\n",
    "# AFTER CV \n",
    "print(\"Confusion Matrix:\\n\", confusion_matrix(y_test, y_pred))\n",
    "print(\"Accuracy:        \", accuracy_score(y_test, y_pred))\n",
    "print(\"Recall Score:    \", recall_score(y_test, y_pred, zero_division=1))     \n",
    "print(\"Precision Score: \",precision_score(y_test, y_pred, zero_division=1))\n",
    "print(\"F1 Score:        \", f1_score(y_test, y_pred,zero_division=1))\n",
    "print(\"ROC_AUC Score:   \",roc_auc_score(y_test,y_pred,multi_class='ovr'))\n",
    "\n",
    "\n",
    "\n",
    "cm = confusion_matrix(y_test, y_pred)\n",
    "# Create an instance of the ConfusionMatrixDisplay class\n",
    "cmd = ConfusionMatrixDisplay(cm, display_labels=['Class 0', 'Class 1'])\n",
    "# Call the plot() method of the ConfusionMatrixDisplay object to display the confusion matrix\n",
    "cmd.plot()\n",
    "\n",
    "# plot_confusion_matrix(clf, X_test, y_test)  \n",
    "plt.show()\n"
   ]
  },
  {
   "cell_type": "code",
   "execution_count": 35,
   "id": "1eb7b42d",
   "metadata": {},
   "outputs": [
    {
     "data": {
      "image/png": "[encoded data removed]",
      "text/plain": [
       "<Figure size 500x500 with 1 Axes>"
      ]
     },
     "metadata": {},
     "output_type": "display_data"
    }
   ],
   "source": [
    "adaboost_fpr, adaboost_tpr, threshold = roc_curve(y_test, y_pred)\n",
    "auc = auc(adaboost_fpr, adaboost_tpr)\n",
    "\n",
    "plt.figure(figsize=(5, 5), dpi=100)\n",
    "plt.plot(adaboost_fpr, adaboost_tpr, linestyle='-', label='Meta Classifier (auc = %0.3f)' % auc)\n",
    "plt.title(\"Receiver Operating Characteristic (ROC Curve)\")\n",
    "plt.xlabel('False Positive Rate -->')\n",
    "plt.ylabel('True Positive Rate -->')\n",
    "\n",
    "plt.legend()\n",
    "plt.show()"
   ]
  },
  {
   "cell_type": "code",
   "execution_count": 36,
   "id": "7ec6daf1",
   "metadata": {},
   "outputs": [
    {
     "data": {
      "image/png": "[encoded data removed]",
      "text/plain": [
       "<Figure size 640x480 with 1 Axes>"
      ]
     },
     "metadata": {},
     "output_type": "display_data"
    }
   ],
   "source": [
    "# #AP = Average precision\n",
    "# from sklearn.metrics import PrecisionRecallDisplay\n",
    "\n",
    "# display = PrecisionRecallDisplay.from_estimator(\n",
    "#     model_stack, X_test, y_test, name=\"MLP\"\n",
    "# )\n",
    "# _ = display.ax_.set_title(\"2-class Precision-Recall curve\")\n",
    "\n",
    "\n",
    "from sklearn.metrics import precision_recall_curve, PrecisionRecallDisplay\n",
    "\n",
    "# Predict probabilities instead of class labels\n",
    "y_proba = ada_classifier.predict_proba(X_test)\n",
    "\n",
    "# Extract probabilities for the positive class\n",
    "y_proba_positive_class = y_proba[:, 1]\n",
    "\n",
    "# Calculate precision and recall\n",
    "precision, recall, _ = precision_recall_curve(y_test, y_proba_positive_class)\n",
    "\n",
    "# Plot precision-recall curve\n",
    "display = PrecisionRecallDisplay(precision=precision, recall=recall).plot()\n"
   ]
  }
 ],
 "metadata": {
  "kernelspec": {
   "display_name": "Python 3 (ipykernel)",
   "language": "python",
   "name": "python3"
  },
  "language_info": {
   "codemirror_mode": {
    "name": "ipython",
    "version": 3
   },
   "file_extension": ".py",
   "mimetype": "text/x-python",
   "name": "python",
   "nbconvert_exporter": "python",
   "pygments_lexer": "ipython3",
   "version": "3.10.12"
  }
 },
 "nbformat": 4,
 "nbformat_minor": 5
}
